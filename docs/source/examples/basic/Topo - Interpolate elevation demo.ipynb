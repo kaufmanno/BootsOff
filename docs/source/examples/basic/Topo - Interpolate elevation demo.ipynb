{
 "cells": [
  {
   "cell_type": "markdown",
   "metadata": {
    "collapsed": true
   },
   "source": [
    "# Topo - Interpolate elevation along a profile\n",
    "O.KAUFMANN, 2017-2021."
   ]
  },
  {
   "cell_type": "code",
   "execution_count": 1,
   "metadata": {},
   "outputs": [],
   "source": [
    "import matplotlib.pyplot as plt\n",
    "from bootsoff.topo import cclength2xz\n",
    "import numpy as np"
   ]
  },
  {
   "cell_type": "markdown",
   "metadata": {},
   "source": [
    "### Create a list of lists of points along the profile: [ [distance in the horizontal plane, elevation], ...] \n",
    "#### Warning horizontal distances should be unique (no vertical...)"
   ]
  },
  {
   "cell_type": "code",
   "execution_count": 2,
   "metadata": {},
   "outputs": [],
   "source": [
    "known_points=[[0,284],[58,280],[152,275],[217,270],[228,267],[305,265],[340,260], [374,255], [397,250], [417,245], [459, 240], [484, 245], [539, 250], [687, 245]]"
   ]
  },
  {
   "cell_type": "markdown",
   "metadata": {},
   "source": [
    "## Functions to compute y the length of a curve know on some points and approximated by a pchip interpolation"
   ]
  },
  {
   "cell_type": "code",
   "execution_count": 3,
   "metadata": {},
   "outputs": [],
   "source": [
    "xz = cclength2xz(known_points, np.linspace(0,800,81))"
   ]
  },
  {
   "cell_type": "code",
   "execution_count": 4,
   "metadata": {},
   "outputs": [
    {
     "data": {
      "text/plain": [
       "(-34.29112329846765, 720.1135892678208, 237.82254253877488, 286.1989265457726)"
      ]
     },
     "execution_count": 4,
     "metadata": {},
     "output_type": "execute_result"
    },
    {
     "data": {
      "image/png": "[encoded data removed]",
      "text/plain": [
       "<Figure size 1152x576 with 1 Axes>"
      ]
     },
     "metadata": {
      "needs_background": "light"
     },
     "output_type": "display_data"
    }
   ],
   "source": [
    "plt.figure(figsize=(16,8))\n",
    "plt.plot(xz.T[0], xz.T[1], '.k')\n",
    "plt.axis('equal')"
   ]
  },
  {
   "cell_type": "code",
   "execution_count": 5,
   "metadata": {},
   "outputs": [
    {
     "data": {
      "text/plain": [
       "array([[  0.        , 284.        ],\n",
       "       [  9.97253064, 283.25931495],\n",
       "       [ 19.94629336, 282.53541753],\n",
       "       [ 29.92154257, 281.83231027],\n",
       "       [ 39.89850799, 281.15400302],\n",
       "       [ 49.87738991, 280.50451399],\n",
       "       [ 59.85837142, 279.88815605],\n",
       "       [ 69.84197817, 279.3159463 ],\n",
       "       [ 79.82776754, 278.78310727],\n",
       "       [ 89.81498055, 278.27759958],\n",
       "       [ 99.80295624, 277.78736039],\n",
       "       [109.79108847, 277.30031458],\n",
       "       [119.77878263, 276.80438453],\n",
       "       [129.76541214, 276.28749963],\n",
       "       [139.75027518, 275.73760657],\n",
       "       [149.73255179, 275.14268156],\n",
       "       [159.71411277, 274.53600751],\n",
       "       [169.69857889, 273.97887543],\n",
       "       [179.68225742, 273.40794058],\n",
       "       [189.66089765, 272.75554312],\n",
       "       [199.6286241 , 271.95451449],\n",
       "       [209.57664963, 270.93881775],\n",
       "       [219.45165788, 269.43989926],\n",
       "       [229.08100381, 266.93673223],\n",
       "       [239.06986352, 266.46832175],\n",
       "       [249.06532314, 266.16981957],\n",
       "       [259.06358479, 265.98502175],\n",
       "       [269.06276711, 265.85743378],\n",
       "       [279.06195771, 265.73047277],\n",
       "       [289.06025483, 265.54755504],\n",
       "       [299.05580888, 265.25218258],\n",
       "       [309.04069551, 264.72313319],\n",
       "       [318.96262601, 263.4902004 ],\n",
       "       [328.82488899, 261.83731827],\n",
       "       [338.68876778, 260.19432586],\n",
       "       [348.59052551, 258.79647648],\n",
       "       [358.49649479, 257.42841794],\n",
       "       [368.3859974 , 255.94691317],\n",
       "       [378.23195823, 254.20188996],\n",
       "       [388.00650659, 252.09207509],\n",
       "       [397.74569449, 249.82318437],\n",
       "       [407.40263175, 247.22823465],\n",
       "       [417.14117934, 244.97622199],\n",
       "       [427.00090457, 243.30717793],\n",
       "       [436.88197136, 241.77117083],\n",
       "       [446.81172038, 240.59615684],\n",
       "       [456.79299956, 240.02146908],\n",
       "       [466.72380629, 240.92060552],\n",
       "       [476.40676846, 243.4136496 ],\n",
       "       [486.21854151, 245.29170693],\n",
       "       [496.13398569, 246.58934359],\n",
       "       [506.05967858, 247.80555852],\n",
       "       [516.0055409 , 248.84257403],\n",
       "       [525.97632764, 249.60038083],\n",
       "       [535.96845712, 249.97680935],\n",
       "       [545.96833941, 249.99947812],\n",
       "       [555.96833643, 249.99246466],\n",
       "       [565.9683089 , 249.96974856],\n",
       "       [575.96819162, 249.92207632],\n",
       "       [585.96785011, 249.84019627],\n",
       "       [595.96705499, 249.7148613 ],\n",
       "       [605.96545647, 249.53683327],\n",
       "       [615.96255896, 249.29688987],\n",
       "       [625.95769609, 248.98583427],\n",
       "       [635.95000628, 248.59450798],\n",
       "       [645.93840908, 248.1138075 ],\n",
       "       [655.92158267, 247.53470489],\n",
       "       [665.89794299, 246.84827291],\n",
       "       [675.8656249 , 246.04571459],\n",
       "       [685.82246597, 245.11839764],\n",
       "       [         nan,          nan],\n",
       "       [         nan,          nan],\n",
       "       [         nan,          nan],\n",
       "       [         nan,          nan],\n",
       "       [         nan,          nan],\n",
       "       [         nan,          nan],\n",
       "       [         nan,          nan],\n",
       "       [         nan,          nan],\n",
       "       [         nan,          nan],\n",
       "       [         nan,          nan],\n",
       "       [         nan,          nan]])"
      ]
     },
     "execution_count": 5,
     "metadata": {},
     "output_type": "execute_result"
    }
   ],
   "source": [
    "xz"
   ]
  }
 ],
 "metadata": {
  "kernelspec": {
   "display_name": "Python 3",
   "language": "python",
   "name": "python3"
  },
  "language_info": {
   "codemirror_mode": {
    "name": "ipython",
    "version": 3
   },
   "file_extension": ".py",
   "mimetype": "text/x-python",
   "name": "python",
   "nbconvert_exporter": "python",
   "pygments_lexer": "ipython3",
   "version": "3.8.5"
  }
 },
 "nbformat": 4,
 "nbformat_minor": 1
}
