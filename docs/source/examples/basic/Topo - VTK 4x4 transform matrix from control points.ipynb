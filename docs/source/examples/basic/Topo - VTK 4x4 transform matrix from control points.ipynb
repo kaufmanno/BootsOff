{
 "cells": [
  {
   "cell_type": "markdown",
   "id": "249e042e-710f-4cef-8574-c402b3a06a97",
   "metadata": {},
   "source": [
    "# Topo - VTK 4x4 transform matrix from control points\n",
    "O. Kaufmann, 2021."
   ]
  },
  {
   "cell_type": "code",
   "execution_count": 1,
   "id": "ff99e3f8-3aac-4904-8ec5-3051cfe9f28f",
   "metadata": {},
   "outputs": [],
   "source": [
    "from ipywidgets import TwoByTwoLayout\n",
    "import bootsoff.topo.geometry as btg\n",
    "import pyvista as pv\n",
    "import numpy as np"
   ]
  },
  {
   "cell_type": "markdown",
   "id": "d8f6fc0a-5aa8-4435-aa79-093db7bd599e",
   "metadata": {},
   "source": [
    "## Coordinates of the control points in the origin space \n",
    "at least 4 non co-planar points are required, if more than 4 are given, a least-squares approach is used"
   ]
  },
  {
   "cell_type": "code",
   "execution_count": 2,
   "id": "df858c46-d083-4a58-ac49-75be9fad05bf",
   "metadata": {},
   "outputs": [],
   "source": [
    "p0 = np.array([0., 0., 0.])\n",
    "p1 = np.array([0., 4., 0.])\n",
    "p2 = np.array([1., 0., 0.])\n",
    "p3 = np.array([0., 0., 2.])"
   ]
  },
  {
   "cell_type": "code",
   "execution_count": 3,
   "id": "88beccc2-f439-437b-9f56-364ea66ab701",
   "metadata": {},
   "outputs": [],
   "source": [
    "origin_points = [p0, p1, p2, p3]"
   ]
  },
  {
   "cell_type": "markdown",
   "id": "ead8d8aa-4794-414e-8a19-b1a013694633",
   "metadata": {},
   "source": [
    "## Corresponding coordinates of the control points in the destination space "
   ]
  },
  {
   "cell_type": "code",
   "execution_count": 4,
   "id": "52a96d19-3a12-400a-8be7-38100fdfeeff",
   "metadata": {},
   "outputs": [],
   "source": [
    "P0 = np.array([2., 0., 0.])\n",
    "P1 = np.array([2., 0., 1.])\n",
    "P2 = np.array([3., 0., 0.])\n",
    "P3 = np.array([2., -4., 3.])"
   ]
  },
  {
   "cell_type": "code",
   "execution_count": 5,
   "id": "bf0abbd3-d038-4de6-b095-2b0cde606b05",
   "metadata": {},
   "outputs": [],
   "source": [
    "destination_points = [P0, P1, P2, P3]"
   ]
  },
  {
   "cell_type": "markdown",
   "id": "a253b424-a4c6-4880-8120-87cf21164e7e",
   "metadata": {},
   "source": [
    "## Convert control points to vtk objects"
   ]
  },
  {
   "cell_type": "code",
   "execution_count": 6,
   "id": "4083c669-d6b1-44b0-8943-586788209bc9",
   "metadata": {},
   "outputs": [
    {
     "name": "stderr",
     "output_type": "stream",
     "text": [
      "\u001b[0m\u001b[33m2021-10-03 19:03:20.624 (   0.205s) [        99D48740]vtkDataSetAttributes.cx:1285  WARN| vtkPointData (0x5586cc42cb40): Can not set attribute Scalars. Only vtkDataArray subclasses can be set as active attributes.\u001b[0m\n",
      "\u001b[0m\u001b[33m2021-10-03 19:03:20.625 (   0.206s) [        99D48740]vtkDataSetAttributes.cx:1285  WARN| vtkPointData (0x5586cc58c6e0): Can not set attribute Scalars. Only vtkDataArray subclasses can be set as active attributes.\u001b[0m\n"
     ]
    }
   ],
   "source": [
    "origin = pv.PolyData(origin_points)\n",
    "origin['Labels'] = [f'p{i}' for i in range(4)]\n",
    "destination = pv.PolyData(destination_points)\n",
    "destination['Labels'] = [f'P{i}' for i in range(4)]"
   ]
  },
  {
   "cell_type": "markdown",
   "id": "1e96ccc9-1071-4c0f-8cd9-970aefe2b3cd",
   "metadata": {},
   "source": [
    "## Create plotters for the origin and destination spaces"
   ]
  },
  {
   "cell_type": "code",
   "execution_count": 7,
   "id": "8044e978-c8cb-4ad7-9c84-0f45c0ed0d41",
   "metadata": {},
   "outputs": [],
   "source": [
    "origin_plotter = pv.Plotter()\n",
    "origin_plotter.add_point_labels(origin, 'Labels', point_size=12, font_size=12, point_color='green')\n",
    "#origin_plotter.add_points(origin, point_size=12, color='green')\n",
    "origin_plotter.add_axes_at_origin(labels_off=True)\n",
    "origin_plotter.camera_position = 'iso'\n",
    "# origin_plotter.show_grid()\n",
    "origin_scene = origin_plotter.show(jupyter_backend='ipyvtklink', return_viewer=True)"
   ]
  },
  {
   "cell_type": "code",
   "execution_count": 8,
   "id": "9c63bbba-3ea9-42d3-93d0-4eca718f8741",
   "metadata": {},
   "outputs": [],
   "source": [
    "destination_plotter = pv.Plotter()\n",
    "destination_plotter.add_point_labels(destination, 'Labels', point_size=12, font_size=12, point_color='orange')\n",
    "destination_plotter.add_axes_at_origin(labels_off=True)\n",
    "destination_plotter.camera_position = 'iso'\n",
    "# destination_plotter.show_grid()\n",
    "destination_scene = destination_plotter.show(jupyter_backend='ipyvtklink', return_viewer=True)"
   ]
  },
  {
   "cell_type": "markdown",
   "id": "11f9f246-6926-4d37-9439-2ca067b60150",
   "metadata": {},
   "source": [
    "## Compute the 4x4 transform matrix"
   ]
  },
  {
   "cell_type": "code",
   "execution_count": 9,
   "id": "511ae7bd-8c70-47f3-8626-ee34c1131a2b",
   "metadata": {},
   "outputs": [],
   "source": [
    "transform_matrix, _ = btg.vtk_transform_matrix_from_control_points(origin_points, destination_points)"
   ]
  },
  {
   "cell_type": "markdown",
   "id": "d98d0d13-b60a-4d06-b042-a735b118224f",
   "metadata": {},
   "source": [
    "## Use the 4x4 transform to transform origin points into destination points"
   ]
  },
  {
   "cell_type": "code",
   "execution_count": 10,
   "id": "c5edbc84-2c6a-447d-ab94-ef70b22da4cd",
   "metadata": {},
   "outputs": [
    {
     "name": "stderr",
     "output_type": "stream",
     "text": [
      "\u001b[0m\u001b[33m2021-10-03 19:03:21.102 (   0.683s) [        99D48740]vtkDataSetAttributes.cx:1285  WARN| vtkPointData (0x5586cc42cb40): Can not set attribute Scalars. Only vtkDataArray subclasses can be set as active attributes.\u001b[0m\n"
     ]
    }
   ],
   "source": [
    "origin_copy = origin.copy()"
   ]
  },
  {
   "cell_type": "code",
   "execution_count": 11,
   "id": "38326194-e9ff-4e00-9286-3c56f5e4eaa0",
   "metadata": {},
   "outputs": [],
   "source": [
    "origin_copy.clear_arrays() # must remove field before applying transform\n",
    "transformed = origin_copy.transform(transform_matrix)"
   ]
  },
  {
   "cell_type": "code",
   "execution_count": 12,
   "id": "d83ef9db-a64e-40cd-8212-2123ee076c94",
   "metadata": {},
   "outputs": [
    {
     "name": "stderr",
     "output_type": "stream",
     "text": [
      "\u001b[0m\u001b[33m2021-10-03 19:03:21.115 (   0.696s) [        99D48740]vtkDataSetAttributes.cx:1285  WARN| vtkPointData (0x5586cd4fd720): Can not set attribute Scalars. Only vtkDataArray subclasses can be set as active attributes.\u001b[0m\n"
     ]
    }
   ],
   "source": [
    "transformed['Labels'] = [f'P{i}' for i in range(4)]"
   ]
  },
  {
   "cell_type": "code",
   "execution_count": 13,
   "id": "3be90ba7-912e-4021-9c3f-ed6b173d9a4a",
   "metadata": {},
   "outputs": [
    {
     "name": "stderr",
     "output_type": "stream",
     "text": [
      "\u001b[0m\u001b[33m2021-10-03 19:03:21.122 (   0.703s) [        99D48740]vtkDataSetAttributes.cx:1285  WARN| vtkPointData (0x5586cd4fd720): Can not set attribute Scalars. Only vtkDataArray subclasses can be set as active attributes.\u001b[0m\n"
     ]
    },
    {
     "data": {
      "text/html": [
       "<table><tr><th>Header</th><th>Data Arrays</th></tr><tr><td>\n",
       "<table>\n",
       "<tr><th>PolyData</th><th>Information</th></tr>\n",
       "<tr><td>N Cells</td><td>4</td></tr>\n",
       "<tr><td>N Points</td><td>4</td></tr>\n",
       "<tr><td>X Bounds</td><td>2.000e+00, 3.000e+00</td></tr>\n",
       "<tr><td>Y Bounds</td><td>-4.000e+00, 1.449e-16</td></tr>\n",
       "<tr><td>Z Bounds</td><td>-3.886e-16, 3.000e+00</td></tr>\n",
       "<tr><td>N Arrays</td><td>1</td></tr>\n",
       "</table>\n",
       "\n",
       "</td><td>\n",
       "<table>\n",
       "<tr><th>Name</th><th>Field</th><th>Type</th><th>N Comp</th><th>Min</th><th>Max</th></tr>\n",
       "<tr><td><b>Labels</b></td><td>Points</td><td><U2</td><td>1</td><td>nan</td><td>nan</td></tr>\n",
       "</table>\n",
       "\n",
       "</td></tr> </table>"
      ],
      "text/plain": [
       "PolyData (0x7f2c0c148dc0)\n",
       "  N Cells:\t4\n",
       "  N Points:\t4\n",
       "  X Bounds:\t2.000e+00, 3.000e+00\n",
       "  Y Bounds:\t-4.000e+00, 1.449e-16\n",
       "  Z Bounds:\t-3.886e-16, 3.000e+00\n",
       "  N Arrays:\t1"
      ]
     },
     "execution_count": 13,
     "metadata": {},
     "output_type": "execute_result"
    }
   ],
   "source": [
    "transformed"
   ]
  },
  {
   "cell_type": "markdown",
   "id": "7b7a7b87-d6a6-4e3d-96b8-703e5a92d183",
   "metadata": {},
   "source": [
    "## Create a plotter for transformed points and display origin (top left), destination (top right) end transformed (bottom right) control points"
   ]
  },
  {
   "cell_type": "code",
   "execution_count": 14,
   "id": "c145dffa-f3c1-4f73-ae35-991e5af1a873",
   "metadata": {},
   "outputs": [],
   "source": [
    "transformed_plotter = pv.Plotter()\n",
    "transformed_plotter.add_point_labels(transformed, 'Labels', point_size=12, font_size=12, point_color='red')\n",
    "#transformed_plotter.add_points(transformed, point_size=12, color='green')\n",
    "transformed_plotter.add_axes_at_origin(labels_off=True)\n",
    "transformed_plotter.camera_position = 'iso'\n",
    "#transformed_plotter.show_grid()\n",
    "transformed_scene = transformed_plotter.show(jupyter_backend='ipyvtklink', return_viewer=True)"
   ]
  },
  {
   "cell_type": "code",
   "execution_count": 15,
   "id": "ae89b3f3-3362-4db3-b6dd-b8ed88c871cd",
   "metadata": {
    "tags": []
   },
   "outputs": [
    {
     "data": {
      "application/vnd.jupyter.widget-view+json": {
       "model_id": "2729b997369b48c8b6ab96466de0a63d",
       "version_major": 2,
       "version_minor": 0
      },
      "text/plain": [
       "TwoByTwoLayout(children=(ViewInteractiveWidget(height=768, layout=Layout(grid_area='top-left', height='auto', …"
      ]
     },
     "metadata": {},
     "output_type": "display_data"
    }
   ],
   "source": [
    "TwoByTwoLayout(top_left=origin_scene, top_right=destination_scene, bottom_right=transformed_scene)"
   ]
  },
  {
   "cell_type": "code",
   "execution_count": 16,
   "id": "3351d218-07e5-48d9-80e9-9a00a4d316e4",
   "metadata": {
    "nbsphinx-thumbnail": {
     "tooltip": "This tooltip message was defined in cell metadata"
    },
    "tags": []
   },
   "outputs": [
    {
     "data": {
      "image/png": "[encoded data removed]",
      "text/plain": [
       "<PIL.Image.Image image mode=RGB size=1024x768 at 0x7F2C8C3BB580>"
      ]
     },
     "metadata": {},
     "output_type": "display_data"
    }
   ],
   "source": [
    "static_plotter = pv.Plotter()\n",
    "static_plotter.add_point_labels(transformed, 'Labels', point_size=12, font_size=12, point_color='red')\n",
    "static_plotter.add_point_labels(origin, 'Labels', point_size=12, font_size=12, point_color='green')\n",
    "static_plotter.add_axes_at_origin(labels_off=True)\n",
    "static_plotter.camera_position = 'iso'\n",
    "static_plotter.show_grid()\n",
    "static_plotter.show(jupyter_backend='static')"
   ]
  },
  {
   "cell_type": "code",
   "execution_count": 17,
   "id": "8c394444-df2b-483a-aee9-586ad333c08f",
   "metadata": {},
   "outputs": [
    {
     "data": {
      "text/plain": [
       "[array([[ 2.00000000e+00, -1.69891899e-16, -3.88578059e-16]]),\n",
       " array([[ 2.00000000e+00, -1.05807032e-15,  1.00000000e+00]]),\n",
       " array([[ 3.00000000e+00,  1.44942688e-16, -2.61544505e-16]]),\n",
       " array([[ 2., -4.,  3.]])]"
      ]
     },
     "execution_count": 17,
     "metadata": {},
     "output_type": "execute_result"
    }
   ],
   "source": [
    "[transformed.cell_points(i) for i in range(transformed.n_cells)]"
   ]
  },
  {
   "cell_type": "code",
   "execution_count": 18,
   "id": "07708992-18db-4758-97e7-bbd6c53edd3d",
   "metadata": {},
   "outputs": [
    {
     "data": {
      "text/plain": [
       "[array([[2., 0., 0.]]),\n",
       " array([[2., 0., 1.]]),\n",
       " array([[3., 0., 0.]]),\n",
       " array([[ 2., -4.,  3.]])]"
      ]
     },
     "execution_count": 18,
     "metadata": {},
     "output_type": "execute_result"
    }
   ],
   "source": [
    "[destination.cell_points(i) for i in range(destination.n_cells)]"
   ]
  }
 ],
 "metadata": {
  "kernelspec": {
   "display_name": "Python 3 (ipykernel)",
   "language": "python",
   "name": "python3"
  },
  "language_info": {
   "codemirror_mode": {
    "name": "ipython",
    "version": 3
   },
   "file_extension": ".py",
   "mimetype": "text/x-python",
   "name": "python",
   "nbconvert_exporter": "python",
   "pygments_lexer": "ipython3",
   "version": "3.8.5"
  }
 },
 "nbformat": 4,
 "nbformat_minor": 5
}
